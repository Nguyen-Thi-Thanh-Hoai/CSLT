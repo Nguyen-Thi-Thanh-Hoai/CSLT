{
 "cells": [
  {
   "cell_type": "code",
   "execution_count": null,
   "metadata": {},
   "outputs": [],
   "source": [
    "i=1 \n",
    "while (i<=9):\n",
    "   j=1\n",
    "   while (j<=9):\n",
    "       print(i*j,end=\" \")\n",
    "       j=j+1\n",
    "   print(\"\") #xuongdong\n",
    "   i=i+1"
   ]
  }
 ],
 "metadata": {
  "language_info": {
   "name": "python"
  }
 },
 "nbformat": 4,
 "nbformat_minor": 2
}
